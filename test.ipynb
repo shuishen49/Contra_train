{
 "cells": [
  {
   "cell_type": "code",
   "execution_count": 1,
   "metadata": {},
   "outputs": [
    {
     "name": "stderr",
     "output_type": "stream",
     "text": [
      "/workspace/.pyenv_mirror/user/current/lib/python3.8/site-packages/tqdm/auto.py:22: TqdmWarning: IProgress not found. Please update jupyter and ipywidgets. See https://ipywidgets.readthedocs.io/en/stable/user_install.html\n",
      "  from .autonotebook import tqdm as notebook_tqdm\n"
     ]
    }
   ],
   "source": [
    "import retro\n",
    "import gym\n",
    "\n",
    "from matplotlib import pyplot as plt\n",
    "from gym.wrappers import GrayScaleObservation\n",
    "from stable_baselines3.common.monitor import Monitor\n",
    "from stable_baselines3.common.vec_env import DummyVecEnv\n",
    "from stable_baselines3.common.vec_env import VecFrameStack\n",
    "import os\n",
    "from stable_baselines3 import PPO\n",
    "\n",
    "from stable_baselines3.common.results_plotter import load_results, ts2xy\n",
    "import numpy as np\n",
    "from stable_baselines3.common.callbacks import BaseCallback\n",
    "\n",
    "import cv2\n",
    "\n",
    "\n",
    "CHECK_FREQ_NUMB = 10000\n",
    "TOTAL_TIMESTEP_NUMB = 2000000\n",
    "LEARNING_RATE = 0.00005\n",
    "N_STEPS = 512\n",
    "GAMMA = 0.9\n",
    "BATCH_SIZE = 64\n",
    "N_EPOCHS = 10\n",
    "DOWN_SAMPLE_RATE = 3\n",
    "SKIP_NUMB = 2\n",
    "EPISODE_NUMBERS = 20\n",
    "\n",
    "# 跳过画面每2真保留一个画面，节省计算时间\n",
    "class SkipFrame(gym.Wrapper):\n",
    "    def __init__(self, env, skip):\n",
    "        super().__init__(env)\n",
    "        self._skip = skip\n",
    "\n",
    "    def step(self, action):\n",
    "        for i in range(self._skip):\n",
    "            obs, reward, done, info = self.env.step(action)\n",
    "            if done:\n",
    "                break\n",
    "        return obs, reward, done, info\n",
    "\n",
    "class Discretizer(gym.ActionWrapper):\n",
    "    \"\"\"\n",
    "    Wrap a gym environment and make it use discrete actions.\n",
    "    Args:\n",
    "        combos: ordered list of lists of valid button combinations\n",
    "    \"\"\"\n",
    "\n",
    "    def __init__(self, env, combos):\n",
    "        super().__init__(env)\n",
    "        assert isinstance(env.action_space, gym.spaces.MultiBinary)\n",
    "        buttons = env.unwrapped.buttons\n",
    "        self._decode_discrete_action = []\n",
    "        for combo in combos:\n",
    "            arr = np.array([False] * env.action_space.n)\n",
    "            for button in combo:\n",
    "                arr[buttons.index(button)] = True\n",
    "            self._decode_discrete_action.append(arr)\n",
    "\n",
    "        self.action_space = gym.spaces.Discrete(\n",
    "            len(self._decode_discrete_action))\n",
    "\n",
    "    def action(self, act):\n",
    "        return self._decode_discrete_action[act].copy()\n",
    "\n",
    "\n",
    "class SonicDiscretizer(Discretizer):\n",
    "    \"\"\"\n",
    "    Use Sonic-specific discrete actions\n",
    "    based on https://github.com/openai/retro-baselines/blob/master/agents/sonic_util.py\n",
    "    \"\"\"\n",
    "    # B是子弹\n",
    "\n",
    "    def __init__(self, env):\n",
    "        super().__init__(env=env, combos=[['RIGHT', 'B'],['RIGHT'],['RIGHT', 'A', 'B'], ['B'],['LEFT', 'A', 'B'],['RIGHT', 'UP', 'B']])\n",
    "\n"
   ]
  },
  {
   "cell_type": "code",
   "execution_count": 2,
   "metadata": {},
   "outputs": [],
   "source": [
    "import os\n"
   ]
  },
  {
   "cell_type": "code",
   "execution_count": 3,
   "metadata": {},
   "outputs": [
    {
     "data": {
      "text/plain": [
       "'/workspace/Contra_train/Contra-Nes'"
      ]
     },
     "execution_count": 3,
     "metadata": {},
     "output_type": "execute_result"
    }
   ],
   "source": [
    "\n",
    "SCRIPT_DIR = os.path.dirname(os.path.abspath(\"./Contra-Nes\"))\n",
    "os.path.join(SCRIPT_DIR, \"Contra-Nes\")"
   ]
  },
  {
   "cell_type": "code",
   "execution_count": 4,
   "metadata": {},
   "outputs": [
    {
     "name": "stdout",
     "output_type": "stream",
     "text": [
      "True\n"
     ]
    },
    {
     "ename": "FileNotFoundError",
     "evalue": "No romfiles found for game: Contra-Nes",
     "output_type": "error",
     "traceback": [
      "\u001b[0;31m---------------------------------------------------------------------------\u001b[0m",
      "\u001b[0;31mFileNotFoundError\u001b[0m                         Traceback (most recent call last)",
      "Cell \u001b[0;32mIn[4], line 7\u001b[0m\n\u001b[1;32m      1\u001b[0m retro\u001b[39m.\u001b[39mdata\u001b[39m.\u001b[39mIntegrations\u001b[39m.\u001b[39madd_custom_path(\n\u001b[1;32m      2\u001b[0m         os\u001b[39m.\u001b[39mpath\u001b[39m.\u001b[39mjoin(SCRIPT_DIR, \u001b[39m\"\u001b[39m\u001b[39mContra-Nes\u001b[39m\u001b[39m\"\u001b[39m)\n\u001b[1;32m      3\u001b[0m )\n\u001b[1;32m      5\u001b[0m \u001b[39mprint\u001b[39m(\u001b[39m\"\u001b[39m\u001b[39mContra-Nes\u001b[39m\u001b[39m\"\u001b[39m \u001b[39min\u001b[39;00m retro\u001b[39m.\u001b[39mdata\u001b[39m.\u001b[39mlist_games(inttype\u001b[39m=\u001b[39mretro\u001b[39m.\u001b[39mdata\u001b[39m.\u001b[39mIntegrations\u001b[39m.\u001b[39mALL))\n\u001b[0;32m----> 7\u001b[0m env \u001b[39m=\u001b[39m retro\u001b[39m.\u001b[39;49mmake(game\u001b[39m=\u001b[39;49m\u001b[39m'\u001b[39;49m\u001b[39mContra-Nes\u001b[39;49m\u001b[39m'\u001b[39;49m ,inttype\u001b[39m=\u001b[39;49mretro\u001b[39m.\u001b[39;49mdata\u001b[39m.\u001b[39;49mIntegrations\u001b[39m.\u001b[39;49mCUSTOM_ONLY)\n\u001b[1;32m      8\u001b[0m \u001b[39m# \u001b[39;00m\n\u001b[1;32m      9\u001b[0m env \u001b[39m=\u001b[39m SonicDiscretizer(env)\n",
      "File \u001b[0;32m/workspace/.pyenv_mirror/user/current/lib/python3.8/site-packages/retro/__init__.py:49\u001b[0m, in \u001b[0;36mmake\u001b[0;34m(game, state, inttype, **kwargs)\u001b[0m\n\u001b[1;32m     45\u001b[0m \u001b[39m\u001b[39m\u001b[39m\"\"\"\u001b[39;00m\n\u001b[1;32m     46\u001b[0m \u001b[39mCreate a Gym environment for the specified game\u001b[39;00m\n\u001b[1;32m     47\u001b[0m \u001b[39m\"\"\"\u001b[39;00m\n\u001b[1;32m     48\u001b[0m \u001b[39mtry\u001b[39;00m:\n\u001b[0;32m---> 49\u001b[0m     retro\u001b[39m.\u001b[39;49mdata\u001b[39m.\u001b[39;49mget_romfile_path(game, inttype)\n\u001b[1;32m     50\u001b[0m \u001b[39mexcept\u001b[39;00m \u001b[39mFileNotFoundError\u001b[39;00m:\n\u001b[1;32m     51\u001b[0m     \u001b[39mif\u001b[39;00m \u001b[39mnot\u001b[39;00m retro\u001b[39m.\u001b[39mdata\u001b[39m.\u001b[39mget_file_path(game, \u001b[39m\"\u001b[39m\u001b[39mrom.sha\u001b[39m\u001b[39m\"\u001b[39m, inttype):\n",
      "File \u001b[0;32m/workspace/.pyenv_mirror/user/current/lib/python3.8/site-packages/retro/data/__init__.py:288\u001b[0m, in \u001b[0;36mget_romfile_path\u001b[0;34m(game, inttype)\u001b[0m\n\u001b[1;32m    285\u001b[0m     \u001b[39mif\u001b[39;00m possible_path:\n\u001b[1;32m    286\u001b[0m         \u001b[39mreturn\u001b[39;00m possible_path\n\u001b[0;32m--> 288\u001b[0m \u001b[39mraise\u001b[39;00m \u001b[39mFileNotFoundError\u001b[39;00m(\u001b[39m\"\u001b[39m\u001b[39mNo romfiles found for game: \u001b[39m\u001b[39m%s\u001b[39;00m\u001b[39m\"\u001b[39m \u001b[39m%\u001b[39m game)\n",
      "\u001b[0;31mFileNotFoundError\u001b[0m: No romfiles found for game: Contra-Nes"
     ]
    }
   ],
   "source": [
    "retro.data.Integrations.add_custom_path(\n",
    "        os.path.join(SCRIPT_DIR, \"Contra-Nes\")\n",
    ")\n",
    "\n",
    "print(\"Contra-Nes\" in retro.data.list_games(inttype=retro.data.Integrations.ALL))\n",
    "\n",
    "env = retro.make(game='Contra-Nes' ,inttype=retro.data.Integrations.CUSTOM_ONLY)\n",
    "# \n",
    "env = SonicDiscretizer(env)\n",
    "# 跳过一阵的画面\n",
    "env = SkipFrame(env, skip=SKIP_NUMB)\n",
    "env = GrayScaleObservation(env, keep_dim=True)"
   ]
  },
  {
   "cell_type": "code",
   "execution_count": null,
   "metadata": {},
   "outputs": [],
   "source": [
    "env.reset()\n",
    "state, reward, done, info = env.step(1)\n",
    "info??"
   ]
  },
  {
   "cell_type": "code",
   "execution_count": 6,
   "metadata": {},
   "outputs": [
    {
     "data": {
      "text/plain": [
       "[]"
      ]
     },
     "execution_count": 6,
     "metadata": {},
     "output_type": "execute_result"
    }
   ],
   "source": [
    "# retro.data.Integrations??\n",
    "\n",
    "retro.data.list_games(inttype=retro.data.Integrations.CUSTOM_ONLY)"
   ]
  },
  {
   "cell_type": "code",
   "execution_count": 13,
   "metadata": {},
   "outputs": [],
   "source": [
    "SCRIPT_DIR = os.path.dirname(os.path.abspath(\"./Contra-Nes\"))\n",
    "\n",
    "retro.data.Integrations.add_custom_path(\n",
    "        os.path.join(SCRIPT_DIR, \"Contra-Nes/\")\n",
    ")\n",
    "rom_path=os.path.join(SCRIPT_DIR, \"Contra-Nes/\")\n",
    "env = retro.make(game=rom_path, inttype=retro.data.Integrations.CUSTOM_ONLY)\n",
    "\n",
    "# print(\"Contra-Nes\" in retro.data.list_games(inttype=retro.data.Integrations.CUSTOM_ONLY))"
   ]
  },
  {
   "cell_type": "code",
   "execution_count": 14,
   "metadata": {},
   "outputs": [
    {
     "name": "stdout",
     "output_type": "stream",
     "text": [
      "\u001b[0;31mType:\u001b[0m        dict\n",
      "\u001b[0;31mString form:\u001b[0m {'lives': 2, 'score': 0, 'xscroll': 0, 'player_state': 1, 'beat_boss': 4, 'die': 1, 'level': 0, 'xpos': 48}\n",
      "\u001b[0;31mLength:\u001b[0m      8\n",
      "\u001b[0;31mDocstring:\u001b[0m  \n",
      "dict() -> new empty dictionary\n",
      "dict(mapping) -> new dictionary initialized from a mapping object's\n",
      "    (key, value) pairs\n",
      "dict(iterable) -> new dictionary initialized as if via:\n",
      "    d = {}\n",
      "    for k, v in iterable:\n",
      "        d[k] = v\n",
      "dict(**kwargs) -> new dictionary initialized with the name=value pairs\n",
      "    in the keyword argument list.  For example:  dict(one=1, two=2)"
     ]
    }
   ],
   "source": [
    "env.reset()\n",
    "state, reward, done, info = env.step([1])\n",
    "info??"
   ]
  }
 ],
 "metadata": {
  "kernelspec": {
   "display_name": "Python 3",
   "language": "python",
   "name": "python3"
  },
  "language_info": {
   "codemirror_mode": {
    "name": "ipython",
    "version": 3
   },
   "file_extension": ".py",
   "mimetype": "text/x-python",
   "name": "python",
   "nbconvert_exporter": "python",
   "pygments_lexer": "ipython3",
   "version": "3.8.16"
  },
  "orig_nbformat": 4,
  "vscode": {
   "interpreter": {
    "hash": "9ac03a0a6051494cc606d484d27d20fce22fb7b4d169f583271e11d5ba46a56e"
   }
  }
 },
 "nbformat": 4,
 "nbformat_minor": 2
}
